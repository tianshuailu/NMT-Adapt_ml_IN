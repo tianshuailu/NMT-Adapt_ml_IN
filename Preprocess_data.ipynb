{
  "nbformat": 4,
  "nbformat_minor": 0,
  "metadata": {
    "colab": {
      "provenance": [],
      "include_colab_link": true
    },
    "kernelspec": {
      "name": "python3",
      "display_name": "Python 3"
    },
    "language_info": {
      "name": "python"
    }
  },
  "cells": [
    {
      "cell_type": "markdown",
      "metadata": {
        "id": "view-in-github",
        "colab_type": "text"
      },
      "source": [
        "<a href=\"https://colab.research.google.com/github/tianshuailu/NMT-Adapt_ml_IN/blob/main/Preprocess_data.ipynb\" target=\"_parent\"><img src=\"https://colab.research.google.com/assets/colab-badge.svg\" alt=\"Open In Colab\"/></a>"
      ]
    },
    {
      "cell_type": "markdown",
      "source": [
        "First, we used noise.py to add noise to the Hindi and Malayalam datasets respectively."
      ],
      "metadata": {
        "id": "Dnvg_8SDzz_g"
      }
    },
    {
      "cell_type": "code",
      "source": [
        "!python noise.py"
      ],
      "metadata": {
        "id": "Vg1qi3QFcLmQ"
      },
      "execution_count": null,
      "outputs": []
    },
    {
      "cell_type": "markdown",
      "source": [
        "Next, we preprocess all the data with fairseq-preprocess. Again, all the dictionary files should be the same with the previous steps.\n",
        "\n",
        "```\n",
        "English → Malayalam (en_XX-ml_XX)\n",
        "Put Backtranslation dataset in /data/bt/train.en_XX, /data/bt/train.ml_XX\n",
        "\n",
        "English → Hindi (en_XX-hi_IN)\n",
        "Put English-Hindi parallel dataset in /data/para/train.en_XX, /data/para/train.es_XX\n",
        "\n",
        "Hindi denoising autoencoding (no_HI-hi_IN), Malayalam denoising autoencoding (no_ML-ml_XX)\n",
        "Put these dataset in /data/denoise/train.no_ml, /data/denoise/train.ml_XX, /data/denoise/train.no_HI, /data/denoise/train.hi_IN\n",
        "\n",
        "English → Malayalam (en_XX-ml_XX)\n",
        "Put test data in /data/test/test.en_XX, /data/test/test.ml_XX\n",
        "```"
      ],
      "metadata": {
        "id": "qTtDxfappqUG"
      }
    },
    {
      "cell_type": "code",
      "source": [
        "#preprocess parallel English Hindi data\n",
        "\n",
        "DATA=/your_path/para \n",
        "TRAIN=train \n",
        "VALID=valid \n",
        "SRC=en_XX \n",
        "TGT=hi_IN \n",
        "\n",
        "#dummy validation\n",
        "head -n 1000 ${DATA}/${TRAIN}.spm.${SRC} > ${DATA}/${VALID}.spm.${SRC} \n",
        "head -n 1000 ${DATA}/${TRAIN}.spm.${TGT} > ${DATA}/${VALID}.spm.${TGT}\n",
        "\n",
        "DICT=/your_path/dict.txt \n",
        "DEST=/your_path \n",
        "NAME=NMTAdapt\n",
        "\n",
        "fairseq-preprocess \\\n",
        "   --source-lang ${SRC} \\\n",
        "   --target-lang ${TGT} \\\n",
        "   --trainpref ${DATA}/${TRAIN}.spm \\\n",
        "   --validpref ${DATA}/${VALID}.spm \\\n",
        "   --destdir ${DEST}/${NAME} \\\n",
        "   --thresholdtgt 0 \\\n",
        "   --thresholdsrc 0 \\\n",
        "   --srcdict ${DICT} \\\n",
        "   --tgtdict ${DICT} \\\n",
        "   --workers 70"
      ],
      "metadata": {
        "id": "lRPC5T1aHIVg"
      },
      "execution_count": null,
      "outputs": []
    },
    {
      "cell_type": "code",
      "source": [
        "# preprocess denoising autoencoding Hindi data\n",
        "DATA=/your_path/denoise \n",
        "\n",
        "python /your_path/replace.py\n",
        "\n",
        "SRC=no_HI\n",
        "TGT=hi_IN\n",
        "\n",
        "head -n 1000 ${DATA}/${TRAIN}.spm.${SRC} > ${DATA}/${VALID}.spm.${SRC} \n",
        "head -n 1000 ${DATA}/${TRAIN}.spm.${TGT} > ${DATA}/${VALID}.spm.${TGT}\n",
        "\n",
        "DICT=/your_path/dict.txt \n",
        "DEST=/your_path \n",
        "NAME=NMTAdapt\n",
        "\n",
        "fairseq-preprocess \\\n",
        "   --source-lang ${SRC} \\\n",
        "   --target-lang ${TGT} \\\n",
        "   --trainpref ${DATA}/${TRAIN}.spm \\\n",
        "   --validpref ${DATA}/${VALID}.spm \\\n",
        "   --destdir ${DEST}/${NAME} \\\n",
        "   --thresholdtgt 0 \\\n",
        "   --thresholdsrc 0 \\\n",
        "   --srcdict ${DICT} \\\n",
        "   --tgtdict ${DICT} \\\n",
        "   --workers 70\n",
        "\n",
        "# preprocess denoising autoencoding Malayalam data\n",
        "SRC=no_ML \n",
        "TGT=ml_XX\n",
        "\n",
        "head -n 1000 ${DATA}/${TRAIN}.spm.${SRC} > ${DATA}/${VALID}.spm.${SRC} \n",
        "head -n 1000 ${DATA}/${TRAIN}.spm.${TGT} > ${DATA}/${VALID}.spm.${TGT}\n",
        "\n",
        "DICT=/your_path/dict.txt \n",
        "DEST=/your_path \n",
        "NAME=NMTAdapt\n",
        "\n",
        "fairseq-preprocess \\\n",
        "   --source-lang ${SRC} \\\n",
        "   --target-lang ${TGT} \\\n",
        "   --trainpref ${DATA}/${TRAIN}.spm \\\n",
        "   --validpref ${DATA}/${VALID}.spm \\\n",
        "   --destdir ${DEST}/${NAME} \\\n",
        "   --thresholdtgt 0 \\\n",
        "   --thresholdsrc 0 \\\n",
        "   --srcdict ${DICT} \\\n",
        "   --tgtdict ${DICT} \\\n",
        "   --workers 70"
      ],
      "metadata": {
        "id": "0_33qu-ZInmm"
      },
      "execution_count": null,
      "outputs": []
    },
    {
      "cell_type": "code",
      "source": [
        "# preprocess English Malayalam test data\n",
        "DATA=/your_path/test\n",
        "SRC=en_XX\n",
        "TGT=ml_XX\n",
        "TEST=test\n",
        "\n",
        "DICT=/your_path/dict.txt \n",
        "DEST=/your_path \n",
        "NAME=NMTAdapt\n",
        "\n",
        "fairseq-preprocess \\\n",
        "   --source-lang ${SRC} \\\n",
        "   --target-lang ${TGT} \\\n",
        "   --testpref ${DATA}/${TEST}.spm \\\n",
        "   --destdir ${DEST}/${NAME} \\\n",
        "   --thresholdtgt 0 \\\n",
        "   --thresholdsrc 0 \\\n",
        "   --srcdict ${DICT} \\\n",
        "   --tgtdict ${DICT} \\\n",
        "   --workers 70\n"
      ],
      "metadata": {
        "id": "OwV3y--Yc7k2"
      },
      "execution_count": null,
      "outputs": []
    }
  ]
}